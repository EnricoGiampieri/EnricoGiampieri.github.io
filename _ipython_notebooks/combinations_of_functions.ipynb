{
 "metadata": {
  "name": "",
  "signature": "sha256:e69422fc281a91c57b0fc332a5df977ce7a1d6df49ae52ec99ed91e4859adc27"
 },
 "nbformat": 3,
 "nbformat_minor": 0,
 "worksheets": [
  {
   "cells": [
    {
     "cell_type": "code",
     "collapsed": false,
     "input": [
      "def combinable(func):\n",
      "    class combinable_function(object):\n",
      "        def __init__(self, *functions):\n",
      "            try:\n",
      "                self.functions = list(*functions)\n",
      "            except TypeError:\n",
      "                self.functions = list(functions)\n",
      "        def __call__(self, arg):\n",
      "            print self.functions\n",
      "            r = arg\n",
      "            for function in self.functions:\n",
      "                r = function(r)\n",
      "            return r\n",
      "        def __mul__(self, other):\n",
      "            if callable(other):\n",
      "                return combinable_function([other]+self.functions)\n",
      "            else:\n",
      "                return self(other)\n",
      "    return combinable_function(func)"
     ],
     "language": "python",
     "metadata": {},
     "outputs": [],
     "prompt_number": 40
    },
    {
     "cell_type": "code",
     "collapsed": false,
     "input": [
      "@combinable\n",
      "def g(a):\n",
      "    return 2*a"
     ],
     "language": "python",
     "metadata": {},
     "outputs": [],
     "prompt_number": 41
    },
    {
     "cell_type": "code",
     "collapsed": false,
     "input": [
      "g(1)"
     ],
     "language": "python",
     "metadata": {},
     "outputs": [
      {
       "output_type": "stream",
       "stream": "stdout",
       "text": [
        "[<function g at 0x7fa438213c08>]\n"
       ]
      },
      {
       "metadata": {},
       "output_type": "pyout",
       "prompt_number": 42,
       "text": [
        "2"
       ]
      }
     ],
     "prompt_number": 42
    },
    {
     "cell_type": "code",
     "collapsed": false,
     "input": [
      "(g*p)(1)"
     ],
     "language": "python",
     "metadata": {},
     "outputs": [
      {
       "output_type": "stream",
       "stream": "stdout",
       "text": [
        "[<function p at 0x7fa438e8a938>, <function g at 0x7fa438213c08>]\n"
       ]
      },
      {
       "metadata": {},
       "output_type": "pyout",
       "prompt_number": 43,
       "text": [
        "4"
       ]
      }
     ],
     "prompt_number": 43
    },
    {
     "cell_type": "code",
     "collapsed": false,
     "input": [
      "g*p*(1)"
     ],
     "language": "python",
     "metadata": {},
     "outputs": [
      {
       "output_type": "stream",
       "stream": "stdout",
       "text": [
        "[<function p at 0x7fa438e8a938>, <function g at 0x7fa438213c08>]\n"
       ]
      },
      {
       "metadata": {},
       "output_type": "pyout",
       "prompt_number": 44,
       "text": [
        "4"
       ]
      }
     ],
     "prompt_number": 44
    },
    {
     "cell_type": "code",
     "collapsed": false,
     "input": [
      "g*p*1"
     ],
     "language": "python",
     "metadata": {},
     "outputs": [
      {
       "output_type": "stream",
       "stream": "stdout",
       "text": [
        "[<function p at 0x7fa438e8a938>, <function g at 0x7fa438213c08>]\n"
       ]
      },
      {
       "metadata": {},
       "output_type": "pyout",
       "prompt_number": 45,
       "text": [
        "4"
       ]
      }
     ],
     "prompt_number": 45
    },
    {
     "cell_type": "code",
     "collapsed": false,
     "input": [],
     "language": "python",
     "metadata": {},
     "outputs": []
    }
   ],
   "metadata": {}
  }
 ]
}