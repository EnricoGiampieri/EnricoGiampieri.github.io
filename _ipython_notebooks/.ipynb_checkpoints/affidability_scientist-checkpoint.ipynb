{
 "metadata": {
  "name": "",
  "signature": "sha256:983cb1a83bc486110f1958ca24ad83d60c849bf7f4198d788a1a9dd69546328a"
 },
 "nbformat": 3,
 "nbformat_minor": 0,
 "worksheets": []
}