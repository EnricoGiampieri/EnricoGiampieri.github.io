{
 "metadata": {
  "name": "",
  "signature": "sha256:4ddb60431a95f39ed858551d10851d6a36a65d341f7f3db477d13ed6e52e7d58"
 },
 "nbformat": 3,
 "nbformat_minor": 0,
 "worksheets": [
  {
   "cells": [
    {
     "cell_type": "markdown",
     "metadata": {},
     "source": [
      "processo di selezione delle variabili incrementale (up-down).\n",
      "\n",
      "per ogni modello in prova (combinazione di variabili) faccio una stima della likelihood.\n",
      "\n",
      "la likehood la stimo facendo una ripetizione di train e test sui dati.\n",
      "\n",
      "Faccio poi la media sulle loglikelihood"
     ]
    },
    {
     "cell_type": "code",
     "collapsed": false,
     "input": [
      "%matplotlib inline\n",
      "from __future__ import division, print_function, unicode_literals\n",
      "import pylab as plt\n",
      "import numpy as np\n",
      "import scipy as sp\n",
      "import scipy.stats as st\n",
      "from statsmodels.formula.api import ols, rlm\n",
      "import pandas as pd\n",
      "import pymc\n",
      "import seaborn as sbn\n",
      "import itertools as it\n",
      "from matplotlib import rc\n",
      "import sklearn\n",
      "rc('font',**{'family':'sans-serif','sans-serif':['Helvetica']})\n",
      "rc('text', usetex=True)\n",
      "\n",
      "from string import ascii_uppercase\n",
      "ascii_uppercase = list(ascii_uppercase)"
     ],
     "language": "python",
     "metadata": {},
     "outputs": [],
     "prompt_number": 76
    },
    {
     "cell_type": "code",
     "collapsed": false,
     "input": [
      "import sklearn.cross_validation as CV"
     ],
     "language": "python",
     "metadata": {},
     "outputs": [],
     "prompt_number": 66
    },
    {
     "cell_type": "code",
     "collapsed": false,
     "input": [
      "CV.KFold?"
     ],
     "language": "python",
     "metadata": {},
     "outputs": [],
     "prompt_number": 67
    },
    {
     "cell_type": "code",
     "collapsed": false,
     "input": [
      "N0 = 6\n",
      "N1 = 6\n",
      "subjects = 100\n",
      "p = 0.4\n",
      "noise = 0.1\n",
      "\n",
      "fake_data = plt.randn(subjects, N0)\n",
      "M = np.zeros((N0, N1))\n",
      "M = (plt.rand(N0, N1)<p) * plt.randn(N0, N1)\n",
      "#fake_data = np.dot(fake_data, M)+plt.randn(N1)*noise\n",
      "fake_data = pd.DataFrame(fake_data, columns=ascii_uppercase[:N1])\n",
      "\n",
      "print(M)"
     ],
     "language": "python",
     "metadata": {},
     "outputs": [
      {
       "output_type": "stream",
       "stream": "stdout",
       "text": [
        "[[-0.42854164 -0.57933368 -0.          0.          0.41210451  0.        ]\n",
        " [ 0.         -0.          0.91085414 -0.         -0.          0.49553245]\n",
        " [-0.          0.52272507 -0.         -1.56025352 -0.         -0.        ]\n",
        " [-0.56153274  1.09536224  0.58095773 -0.          0.          0.        ]\n",
        " [ 0.         -2.20052638  0.          1.25613535 -0.         -0.        ]\n",
        " [ 0.83956334  0.78763551  0.          0.          0.93883536  1.35478502]]\n"
       ]
      }
     ],
     "prompt_number": 270
    },
    {
     "cell_type": "code",
     "collapsed": false,
     "input": [
      "_=fake_data.hist()"
     ],
     "language": "python",
     "metadata": {},
     "outputs": [
      {
       "metadata": {},
       "output_type": "display_data",
       "png": "[encoded data removed]",
       "text": [
        "<matplotlib.figure.Figure at 0x7f7034231290>"
       ]
      }
     ],
     "prompt_number": 271
    },
    {
     "cell_type": "code",
     "collapsed": false,
     "input": [
      "fake_data.corr()"
     ],
     "language": "python",
     "metadata": {},
     "outputs": [
      {
       "html": [
        "<div style=\"max-height:1000px;max-width:1500px;overflow:auto;\">\n",
        "<table border=\"1\" class=\"dataframe\">\n",
        "  <thead>\n",
        "    <tr style=\"text-align: right;\">\n",
        "      <th></th>\n",
        "      <th>A</th>\n",
        "      <th>B</th>\n",
        "      <th>C</th>\n",
        "      <th>D</th>\n",
        "      <th>E</th>\n",
        "      <th>F</th>\n",
        "    </tr>\n",
        "  </thead>\n",
        "  <tbody>\n",
        "    <tr>\n",
        "      <th>A</th>\n",
        "      <td> 1.000000</td>\n",
        "      <td> 0.047470</td>\n",
        "      <td> 0.184618</td>\n",
        "      <td>-0.057778</td>\n",
        "      <td> 0.024798</td>\n",
        "      <td> 0.054199</td>\n",
        "    </tr>\n",
        "    <tr>\n",
        "      <th>B</th>\n",
        "      <td> 0.047470</td>\n",
        "      <td> 1.000000</td>\n",
        "      <td>-0.067540</td>\n",
        "      <td> 0.051763</td>\n",
        "      <td>-0.072750</td>\n",
        "      <td> 0.068234</td>\n",
        "    </tr>\n",
        "    <tr>\n",
        "      <th>C</th>\n",
        "      <td> 0.184618</td>\n",
        "      <td>-0.067540</td>\n",
        "      <td> 1.000000</td>\n",
        "      <td> 0.024965</td>\n",
        "      <td>-0.028641</td>\n",
        "      <td> 0.130549</td>\n",
        "    </tr>\n",
        "    <tr>\n",
        "      <th>D</th>\n",
        "      <td>-0.057778</td>\n",
        "      <td> 0.051763</td>\n",
        "      <td> 0.024965</td>\n",
        "      <td> 1.000000</td>\n",
        "      <td> 0.114592</td>\n",
        "      <td> 0.029099</td>\n",
        "    </tr>\n",
        "    <tr>\n",
        "      <th>E</th>\n",
        "      <td> 0.024798</td>\n",
        "      <td>-0.072750</td>\n",
        "      <td>-0.028641</td>\n",
        "      <td> 0.114592</td>\n",
        "      <td> 1.000000</td>\n",
        "      <td> 0.010663</td>\n",
        "    </tr>\n",
        "    <tr>\n",
        "      <th>F</th>\n",
        "      <td> 0.054199</td>\n",
        "      <td> 0.068234</td>\n",
        "      <td> 0.130549</td>\n",
        "      <td> 0.029099</td>\n",
        "      <td> 0.010663</td>\n",
        "      <td> 1.000000</td>\n",
        "    </tr>\n",
        "  </tbody>\n",
        "</table>\n",
        "</div>"
       ],
       "metadata": {},
       "output_type": "pyout",
       "prompt_number": 272,
       "text": [
        "          A         B         C         D         E         F\n",
        "A  1.000000  0.047470  0.184618 -0.057778  0.024798  0.054199\n",
        "B  0.047470  1.000000 -0.067540  0.051763 -0.072750  0.068234\n",
        "C  0.184618 -0.067540  1.000000  0.024965 -0.028641  0.130549\n",
        "D -0.057778  0.051763  0.024965  1.000000  0.114592  0.029099\n",
        "E  0.024798 -0.072750 -0.028641  0.114592  1.000000  0.010663\n",
        "F  0.054199  0.068234  0.130549  0.029099  0.010663  1.000000"
       ]
      }
     ],
     "prompt_number": 272
    },
    {
     "cell_type": "code",
     "collapsed": false,
     "input": [
      "fake_data['G'] = fake_data['A'] + fake_data['B'] + plt.randn(len(fake_data))*0.1"
     ],
     "language": "python",
     "metadata": {},
     "outputs": [],
     "prompt_number": 273
    },
    {
     "cell_type": "code",
     "collapsed": false,
     "input": [
      "def loglikehood_verify(model_string, fake_data):\n",
      "    tests_loglike = []\n",
      "    train_loglike = []\n",
      "    frac = 0.05\n",
      "    rs = CV.ShuffleSplit(len(fake_data), n_iter=200, test_size=frac, random_state=0)\n",
      "    for train_index, test_index in rs:\n",
      "        train = fake_data.iloc[train_index]\n",
      "        test = fake_data.iloc[test_index]\n",
      "        m = ols(model_string, train)\n",
      "        r = m.fit()\n",
      "        llh = m.loglike(r.params)\n",
      "        train_loglike.append(llh)\n",
      "        m = ols(model_string, test)\n",
      "        llh = m.loglike(r.params)\n",
      "        tests_loglike.append(llh)\n",
      "\n",
      "    tests_loglike = np.asarray(tests_loglike)\n",
      "    tests_loglike /= (frac*len(fake_data))\n",
      "    #tests_loglike = np.exp(-tests_loglike)\n",
      "\n",
      "\n",
      "    train_loglike = np.asarray(train_loglike)\n",
      "    train_loglike /= ((1-frac)*len(fake_data))\n",
      "    #train_loglike = np.exp(-train_loglike)\n",
      "\n",
      "    m = ols(model_string, fake_data)\n",
      "\n",
      "    r = m.fit()\n",
      "    #log likelihood of the model\n",
      "    llf = r.llf/len(fake_data)\n",
      "    #llf = np.exp(-llf)\n",
      "    return llf, train_loglike, tests_loglike"
     ],
     "language": "python",
     "metadata": {},
     "outputs": [],
     "prompt_number": 274
    },
    {
     "cell_type": "code",
     "collapsed": false,
     "input": [
      "fake_data['G'] = fake_data['A'] + fake_data['B'] + 0.33*fake_data['C']**2 + plt.randn(len(fake_data))*0.1 * plt.rand(len(fake_data))\n",
      "\n",
      "model_string = 'G ~ A+B+I(C**2)'\n",
      "tot, train, tests = loglikehood_verify(model_string, fake_data)\n",
      "print(model_string, tot, np.mean(train), np.mean(tests))\n",
      "\n",
      "model_string = 'G ~ A+B'\n",
      "tot, train, tests = loglikehood_verify(model_string, fake_data)\n",
      "print(model_string, tot, np.mean(train), np.mean(tests))\n",
      "\n",
      "model_string = 'G ~ A'\n",
      "tot, train, tests = loglikehood_verify(model_string, fake_data)\n",
      "print(model_string, tot, np.mean(train), np.mean(tests))\n",
      "\n",
      "model_string = 'G ~ B'\n",
      "tot, train, tests = loglikehood_verify(model_string, fake_data)\n",
      "print(model_string, tot, np.mean(train), np.mean(tests))\n",
      "\n",
      "model_string = 'G ~ C'\n",
      "tot, train, tests = loglikehood_verify(model_string, fake_data)\n",
      "print(model_string, tot, np.mean(train), np.mean(tests))\n",
      "\n",
      "model_string = 'G ~ D'\n",
      "tot, train, tests = loglikehood_verify(model_string, fake_data)\n",
      "print(model_string, tot, np.mean(train), np.mean(tests))"
     ],
     "language": "python",
     "metadata": {},
     "outputs": [
      {
       "output_type": "stream",
       "stream": "stdout",
       "text": [
        "G ~ A+B+I(C**2) 1.42545959345 1.42836994097 1.52435477654\n",
        "G ~ A+B"
       ]
      },
      {
       "output_type": "stream",
       "stream": "stdout",
       "text": [
        " -0.494229349882 -0.491764640493 -0.368340785819\n",
        "G ~ A"
       ]
      },
      {
       "output_type": "stream",
       "stream": "stdout",
       "text": [
        " -1.34217887017 -1.34150049919 -1.27110860944\n",
        "G ~ B"
       ]
      },
      {
       "output_type": "stream",
       "stream": "stdout",
       "text": [
        " -1.38158585968 -1.38159566054 -1.29860187797\n",
        "G ~ C"
       ]
      },
      {
       "output_type": "stream",
       "stream": "stdout",
       "text": [
        " -1.68441737248 -1.68410818753 -1.58095405776\n",
        "G ~ D"
       ]
      },
      {
       "output_type": "stream",
       "stream": "stdout",
       "text": [
        " -1.68432141581 -1.6838555565 -1.58511544864\n"
       ]
      }
     ],
     "prompt_number": 275
    },
    {
     "cell_type": "code",
     "collapsed": false,
     "input": [
      "fig, ((ax0, ax1), (ax2, ax3)) = plt.subplots(2,2, figsize=(10,10))\n",
      "\n",
      "_=ax3.hist(train_loglike, normed=True)\n",
      "ax3.set_title('train set')\n",
      "\n",
      "_=ax0.hist(tests_loglike, orientation='horizontal', normed=True)\n",
      "ax0.set_title('test set')\n",
      "_=ax1.scatter(train_loglike, tests_loglike)\n",
      "#ax1.plot([0.0,1.0], [1.0, 0.0])\n",
      "#ax1.set_xlim(0,1)\n",
      "#ax1.set_ylim(0,1)\n",
      "ax1.axvline(llf)"
     ],
     "language": "python",
     "metadata": {},
     "outputs": [
      {
       "metadata": {},
       "output_type": "pyout",
       "prompt_number": 263,
       "text": [
        "<matplotlib.lines.Line2D at 0x7f7033bec590>"
       ]
      },
      {
       "metadata": {},
       "output_type": "display_data",
       "png": "[encoded data removed]",
       "text": [
        "<matplotlib.figure.Figure at 0x7f7034710850>"
       ]
      }
     ],
     "prompt_number": 263
    },
    {
     "cell_type": "code",
     "collapsed": false,
     "input": [
      "model_string = 'G ~ C'\n",
      "llfs = []\n",
      "idx = range(5,1005,5)\n",
      "for i in idx:\n",
      "    m = ols(model_string, fake_data[:i])\n",
      "    r = m.fit()\n",
      "    llfs.append(r.llf)\n",
      "plt.plot(idx, llfs)"
     ],
     "language": "python",
     "metadata": {},
     "outputs": [
      {
       "metadata": {},
       "output_type": "pyout",
       "prompt_number": 264,
       "text": [
        "[<matplotlib.lines.Line2D at 0x7f703477d110>]"
       ]
      },
      {
       "metadata": {},
       "output_type": "display_data",
       "png": "[encoded data removed]",
       "text": [
        "<matplotlib.figure.Figure at 0x7f7033b34890>"
       ]
      }
     ],
     "prompt_number": 264
    },
    {
     "cell_type": "code",
     "collapsed": false,
     "input": [
      "model_string = 'G ~ A+B'\n",
      "llfs = []\n",
      "idx = range(5,1005,5)\n",
      "for i in idx:\n",
      "    m = ols(model_string, fake_data[:i])\n",
      "    r = m.fit()\n",
      "    llfs.append(r.llf)\n",
      "plt.plot(idx, llfs)"
     ],
     "language": "python",
     "metadata": {},
     "outputs": [
      {
       "metadata": {},
       "output_type": "pyout",
       "prompt_number": 265,
       "text": [
        "[<matplotlib.lines.Line2D at 0x7f7033d14550>]"
       ]
      },
      {
       "metadata": {},
       "output_type": "display_data",
       "png": "[encoded data removed]",
       "text": [
        "<matplotlib.figure.Figure at 0x7f70341b9e90>"
       ]
      }
     ],
     "prompt_number": 265
    },
    {
     "cell_type": "code",
     "collapsed": false,
     "input": [],
     "language": "python",
     "metadata": {},
     "outputs": []
    }
   ],
   "metadata": {}
  }
 ]
}